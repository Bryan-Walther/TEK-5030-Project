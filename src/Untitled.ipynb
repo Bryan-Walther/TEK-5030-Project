{
 "cells": [
  {
   "cell_type": "code",
   "execution_count": 1,
   "id": "f7ebdfc7",
   "metadata": {},
   "outputs": [],
   "source": [
    "import numpy as np\n",
    "import cv2\n",
    "from utils import *\n",
    "%matplotlib inline"
   ]
  },
  {
   "cell_type": "code",
   "execution_count": 2,
   "id": "b83ec0e9",
   "metadata": {},
   "outputs": [],
   "source": [
    "EXTRACTION_TYPE = 'ORB' \n",
    "MATCHER_TYPE = 'flann'\n",
    "RATIOTHRESH = 0.7\n",
    "\n",
    "# Convert video to frames\n",
    "frames = video_to_frames('./videos/vid1.mp4', './frames', frame_rate=2)\n",
    "\n",
    "# Split frames into follower and lead\n",
    "follower, lead = split_frames(frames, t=1)"
   ]
  },
  {
   "cell_type": "code",
   "execution_count": null,
   "id": "5c053897",
   "metadata": {},
   "outputs": [],
   "source": [
    "idx = 25 # Testing for images at t=25\n",
    "\n",
    "test_follower = follower[idx]\n",
    "test_lead = lead[idx]\n",
    "\n",
    "follower_keypoints, follower_descriptors = extract_features(test_follower, descriptor_type=EXTRACTION_TYPE)\n",
    "lead_keypoints, lead_descriptors = extract_features(test_lead, descriptor_type=EXTRACTION_TYPE)\n",
    "\n",
    "_, _, matches = match_features(follower_keypoints, follower_descriptors, lead_keypoints, lead_descriptors, matcher_type=MATCHER_TYPE, ratio_thresh=RATIOTHRESH)\n",
    "#visualize_matches(test_follower, follower_keypoints, test_lead, lead_keypoints, matches, show=True)\n",
    "\n",
    "test_follower_rect, test_lead_rect, H1, H2 = rectify_images(test_follower, test_lead, follower_keypoints, lead_keypoints, matches, show=True)\n"
   ]
  },
  {
   "cell_type": "code",
   "execution_count": null,
   "id": "7acb39d9",
   "metadata": {},
   "outputs": [],
   "source": []
  }
 ],
 "metadata": {
  "kernelspec": {
   "display_name": "Python 3 (ipykernel)",
   "language": "python",
   "name": "python3"
  },
  "language_info": {
   "codemirror_mode": {
    "name": "ipython",
    "version": 3
   },
   "file_extension": ".py",
   "mimetype": "text/x-python",
   "name": "python",
   "nbconvert_exporter": "python",
   "pygments_lexer": "ipython3",
   "version": "3.8.11"
  }
 },
 "nbformat": 4,
 "nbformat_minor": 5
}

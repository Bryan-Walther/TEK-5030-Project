{
 "cells": [
  {
   "cell_type": "code",
   "execution_count": 1,
   "id": "329f3ed6",
   "metadata": {},
   "outputs": [],
   "source": [
    "import numpy as np\n",
    "import cv2\n",
    "from utils import *\n",
    "%matplotlib inline"
   ]
  },
  {
   "cell_type": "code",
   "execution_count": 2,
   "id": "f31860b8",
   "metadata": {},
   "outputs": [],
   "source": [
    "EXTRACTION_TYPE = 'ORB' \n",
    "MATCHER_TYPE = 'flann'\n",
    "RATIOTHRESH = 0.7\n",
    "\n",
    "# Convert video to frames\n",
    "frames = video_to_frames('./videos/vid1.mp4', './frames', frame_rate=2)\n",
    "\n",
    "# Split frames into follower and lead\n",
    "follower, lead = split_frames(frames, t=1)"
   ]
  },
  {
   "cell_type": "code",
   "execution_count": 1,
   "id": "41b7ffe5",
   "metadata": {},
   "outputs": [
    {
     "ename": "NameError",
     "evalue": "name 'follower' is not defined",
     "output_type": "error",
     "traceback": [
      "\u001b[0;31m---------------------------------------------------------------------------\u001b[0m",
      "\u001b[0;31mNameError\u001b[0m                                 Traceback (most recent call last)",
      "\u001b[0;32m/var/folders/xf/_hbrqpw94pl_bmk548fl4jvm0000gn/T/ipykernel_26220/2715847864.py\u001b[0m in \u001b[0;36m<module>\u001b[0;34m\u001b[0m\n\u001b[1;32m      1\u001b[0m \u001b[0midx\u001b[0m \u001b[0;34m=\u001b[0m \u001b[0;36m25\u001b[0m \u001b[0;31m# Testing for images at t=25\u001b[0m\u001b[0;34m\u001b[0m\u001b[0;34m\u001b[0m\u001b[0m\n\u001b[1;32m      2\u001b[0m \u001b[0;34m\u001b[0m\u001b[0m\n\u001b[0;32m----> 3\u001b[0;31m \u001b[0mtest_follower\u001b[0m \u001b[0;34m=\u001b[0m \u001b[0mfollower\u001b[0m\u001b[0;34m[\u001b[0m\u001b[0midx\u001b[0m\u001b[0;34m]\u001b[0m\u001b[0;34m\u001b[0m\u001b[0;34m\u001b[0m\u001b[0m\n\u001b[0m\u001b[1;32m      4\u001b[0m \u001b[0mtest_lead\u001b[0m \u001b[0;34m=\u001b[0m \u001b[0mlead\u001b[0m\u001b[0;34m[\u001b[0m\u001b[0midx\u001b[0m\u001b[0;34m]\u001b[0m\u001b[0;34m\u001b[0m\u001b[0;34m\u001b[0m\u001b[0m\n\u001b[1;32m      5\u001b[0m \u001b[0;34m\u001b[0m\u001b[0m\n",
      "\u001b[0;31mNameError\u001b[0m: name 'follower' is not defined"
     ]
    }
   ],
   "source": [
    "idx = 25 # Testing for images at t=25\n",
    "\n",
    "test_follower = follower[idx]\n",
    "test_lead = lead[idx]\n",
    "\n",
    "follower_keypoints, follower_descriptors = extract_features(test_follower, descriptor_type=EXTRACTION_TYPE)\n",
    "lead_keypoints, lead_descriptors = extract_features(test_lead, descriptor_type=EXTRACTION_TYPE)\n",
    "\n",
    "_, _, matches = match_features(follower_keypoints, follower_descriptors, lead_keypoints, lead_descriptors, matcher_type=MATCHER_TYPE, ratio_thresh=RATIOTHRESH)\n",
    "#visualize_matches(test_follower, follower_keypoints, test_lead, lead_keypoints, matches, show=True)\n",
    "\n",
    "F, H1, H2, mask = rectify_images(test_follower, test_lead, follower_keypoints, lead_keypoints, matches, show=True)\n"
   ]
  },
  {
   "cell_type": "code",
   "execution_count": null,
   "id": "7119aba3",
   "metadata": {},
   "outputs": [],
   "source": []
  }
 ],
 "metadata": {
  "kernelspec": {
   "display_name": "Python 3 (ipykernel)",
   "language": "python",
   "name": "python3"
  },
  "language_info": {
   "codemirror_mode": {
    "name": "ipython",
    "version": 3
   },
   "file_extension": ".py",
   "mimetype": "text/x-python",
   "name": "python",
   "nbconvert_exporter": "python",
   "pygments_lexer": "ipython3",
   "version": "3.8.11"
  }
 },
 "nbformat": 4,
 "nbformat_minor": 5
}
